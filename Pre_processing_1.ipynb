{
 "cells": [
  {
   "cell_type": "code",
   "execution_count": 1,
   "id": "33bfe63c",
   "metadata": {},
   "outputs": [],
   "source": [
    "import os\n",
    "import numpy as np\n",
    "import pandas as pd\n",
    "import matplotlib.pyplot as plt\n",
    "import seaborn as sns\n",
    "%matplotlib inline"
   ]
  },
  {
   "cell_type": "code",
   "execution_count": 2,
   "id": "f142fc88",
   "metadata": {
    "scrolled": true
   },
   "outputs": [],
   "source": [
    "dataset = pd.read_excel('C:/Users/dasar.SELVAMDG/Desktop/p/Data_Preprocessing/dataset/Employee_Data.xls')"
   ]
  },
  {
   "cell_type": "code",
   "execution_count": 3,
   "id": "86ccd4d2",
   "metadata": {
    "scrolled": true
   },
   "outputs": [
    {
     "data": {
      "text/plain": [
       "'C:\\\\Users\\\\dasar.SELVAMDG\\\\Desktop\\\\p\\\\Data_Preprocessing'"
      ]
     },
     "execution_count": 3,
     "metadata": {},
     "output_type": "execute_result"
    }
   ],
   "source": [
    "os.getcwd()"
   ]
  },
  {
   "cell_type": "code",
   "execution_count": 4,
   "id": "18dce2c8",
   "metadata": {
    "scrolled": true
   },
   "outputs": [
    {
     "data": {
      "text/html": [
       "<div>\n",
       "<style scoped>\n",
       "    .dataframe tbody tr th:only-of-type {\n",
       "        vertical-align: middle;\n",
       "    }\n",
       "\n",
       "    .dataframe tbody tr th {\n",
       "        vertical-align: top;\n",
       "    }\n",
       "\n",
       "    .dataframe thead th {\n",
       "        text-align: right;\n",
       "    }\n",
       "</style>\n",
       "<table border=\"1\" class=\"dataframe\">\n",
       "  <thead>\n",
       "    <tr style=\"text-align: right;\">\n",
       "      <th></th>\n",
       "      <th>Employee Id</th>\n",
       "      <th>First Name</th>\n",
       "      <th>Last Name</th>\n",
       "      <th>Department</th>\n",
       "      <th>Age</th>\n",
       "      <th>Experience</th>\n",
       "      <th>Salary</th>\n",
       "    </tr>\n",
       "  </thead>\n",
       "  <tbody>\n",
       "    <tr>\n",
       "      <th>0</th>\n",
       "      <td>1</td>\n",
       "      <td>Joy</td>\n",
       "      <td>Bass</td>\n",
       "      <td>Sales and Marketing</td>\n",
       "      <td>28.0</td>\n",
       "      <td>3.0</td>\n",
       "      <td>32889</td>\n",
       "    </tr>\n",
       "    <tr>\n",
       "      <th>1</th>\n",
       "      <td>2</td>\n",
       "      <td>Sheila</td>\n",
       "      <td>Garza</td>\n",
       "      <td>Sales and Marketing</td>\n",
       "      <td>22.0</td>\n",
       "      <td>1.0</td>\n",
       "      <td>15944</td>\n",
       "    </tr>\n",
       "    <tr>\n",
       "      <th>2</th>\n",
       "      <td>3</td>\n",
       "      <td>John</td>\n",
       "      <td>Bryant</td>\n",
       "      <td>Customer Relations</td>\n",
       "      <td>22.0</td>\n",
       "      <td>1.0</td>\n",
       "      <td>40343</td>\n",
       "    </tr>\n",
       "    <tr>\n",
       "      <th>3</th>\n",
       "      <td>4</td>\n",
       "      <td>Christian</td>\n",
       "      <td>Farley</td>\n",
       "      <td>Customer Relations</td>\n",
       "      <td>22.0</td>\n",
       "      <td>1.0</td>\n",
       "      <td>19018</td>\n",
       "    </tr>\n",
       "    <tr>\n",
       "      <th>4</th>\n",
       "      <td>5</td>\n",
       "      <td>Colorado</td>\n",
       "      <td>Bowen</td>\n",
       "      <td>Accounting</td>\n",
       "      <td>27.0</td>\n",
       "      <td>0.0</td>\n",
       "      <td>24795</td>\n",
       "    </tr>\n",
       "  </tbody>\n",
       "</table>\n",
       "</div>"
      ],
      "text/plain": [
       "   Employee Id First Name Last Name           Department   Age  Experience  \\\n",
       "0            1        Joy      Bass  Sales and Marketing  28.0         3.0   \n",
       "1            2     Sheila     Garza  Sales and Marketing  22.0         1.0   \n",
       "2            3       John    Bryant   Customer Relations  22.0         1.0   \n",
       "3            4  Christian    Farley   Customer Relations  22.0         1.0   \n",
       "4            5   Colorado     Bowen           Accounting  27.0         0.0   \n",
       "\n",
       "   Salary  \n",
       "0   32889  \n",
       "1   15944  \n",
       "2   40343  \n",
       "3   19018  \n",
       "4   24795  "
      ]
     },
     "execution_count": 4,
     "metadata": {},
     "output_type": "execute_result"
    }
   ],
   "source": [
    "dataset.head()"
   ]
  },
  {
   "cell_type": "code",
   "execution_count": 5,
   "id": "e4b479f9",
   "metadata": {
    "scrolled": false
   },
   "outputs": [
    {
     "data": {
      "text/plain": [
       "Employee Id     0\n",
       "First Name      0\n",
       "Last Name       0\n",
       "Department     19\n",
       "Age            18\n",
       "Experience     10\n",
       "Salary          0\n",
       "dtype: int64"
      ]
     },
     "execution_count": 5,
     "metadata": {},
     "output_type": "execute_result"
    }
   ],
   "source": [
    "dataset.isnull().sum()"
   ]
  },
  {
   "cell_type": "code",
   "execution_count": 6,
   "id": "fb663f0c",
   "metadata": {
    "scrolled": true
   },
   "outputs": [
    {
     "data": {
      "text/html": [
       "<div>\n",
       "<style scoped>\n",
       "    .dataframe tbody tr th:only-of-type {\n",
       "        vertical-align: middle;\n",
       "    }\n",
       "\n",
       "    .dataframe tbody tr th {\n",
       "        vertical-align: top;\n",
       "    }\n",
       "\n",
       "    .dataframe thead th {\n",
       "        text-align: right;\n",
       "    }\n",
       "</style>\n",
       "<table border=\"1\" class=\"dataframe\">\n",
       "  <thead>\n",
       "    <tr style=\"text-align: right;\">\n",
       "      <th></th>\n",
       "      <th>Employee Id</th>\n",
       "      <th>Age</th>\n",
       "      <th>Experience</th>\n",
       "      <th>Salary</th>\n",
       "    </tr>\n",
       "  </thead>\n",
       "  <tbody>\n",
       "    <tr>\n",
       "      <th>count</th>\n",
       "      <td>100.000000</td>\n",
       "      <td>82.000000</td>\n",
       "      <td>90.000000</td>\n",
       "      <td>100.000000</td>\n",
       "    </tr>\n",
       "    <tr>\n",
       "      <th>mean</th>\n",
       "      <td>50.500000</td>\n",
       "      <td>37.975610</td>\n",
       "      <td>14.766667</td>\n",
       "      <td>65066.760000</td>\n",
       "    </tr>\n",
       "    <tr>\n",
       "      <th>std</th>\n",
       "      <td>29.011492</td>\n",
       "      <td>9.515388</td>\n",
       "      <td>6.889252</td>\n",
       "      <td>26189.874212</td>\n",
       "    </tr>\n",
       "    <tr>\n",
       "      <th>min</th>\n",
       "      <td>1.000000</td>\n",
       "      <td>22.000000</td>\n",
       "      <td>0.000000</td>\n",
       "      <td>11830.000000</td>\n",
       "    </tr>\n",
       "    <tr>\n",
       "      <th>25%</th>\n",
       "      <td>25.750000</td>\n",
       "      <td>27.250000</td>\n",
       "      <td>9.250000</td>\n",
       "      <td>48526.000000</td>\n",
       "    </tr>\n",
       "    <tr>\n",
       "      <th>50%</th>\n",
       "      <td>50.500000</td>\n",
       "      <td>42.000000</td>\n",
       "      <td>16.500000</td>\n",
       "      <td>73500.500000</td>\n",
       "    </tr>\n",
       "    <tr>\n",
       "      <th>75%</th>\n",
       "      <td>75.250000</td>\n",
       "      <td>45.750000</td>\n",
       "      <td>21.000000</td>\n",
       "      <td>86621.250000</td>\n",
       "    </tr>\n",
       "    <tr>\n",
       "      <th>max</th>\n",
       "      <td>100.000000</td>\n",
       "      <td>50.000000</td>\n",
       "      <td>25.000000</td>\n",
       "      <td>98180.000000</td>\n",
       "    </tr>\n",
       "  </tbody>\n",
       "</table>\n",
       "</div>"
      ],
      "text/plain": [
       "       Employee Id        Age  Experience        Salary\n",
       "count   100.000000  82.000000   90.000000    100.000000\n",
       "mean     50.500000  37.975610   14.766667  65066.760000\n",
       "std      29.011492   9.515388    6.889252  26189.874212\n",
       "min       1.000000  22.000000    0.000000  11830.000000\n",
       "25%      25.750000  27.250000    9.250000  48526.000000\n",
       "50%      50.500000  42.000000   16.500000  73500.500000\n",
       "75%      75.250000  45.750000   21.000000  86621.250000\n",
       "max     100.000000  50.000000   25.000000  98180.000000"
      ]
     },
     "execution_count": 6,
     "metadata": {},
     "output_type": "execute_result"
    }
   ],
   "source": [
    "dataset.describe()"
   ]
  },
  {
   "cell_type": "code",
   "execution_count": 7,
   "id": "de1356e0",
   "metadata": {
    "scrolled": true
   },
   "outputs": [
    {
     "data": {
      "text/plain": [
       "(100, 7)"
      ]
     },
     "execution_count": 7,
     "metadata": {},
     "output_type": "execute_result"
    }
   ],
   "source": [
    "dataset.shape"
   ]
  },
  {
   "cell_type": "code",
   "execution_count": 8,
   "id": "5a61f47d",
   "metadata": {
    "scrolled": true
   },
   "outputs": [
    {
     "data": {
      "text/plain": [
       "Index(['Employee Id', 'First Name', 'Last Name', 'Department', 'Age',\n",
       "       'Experience', 'Salary'],\n",
       "      dtype='object')"
      ]
     },
     "execution_count": 8,
     "metadata": {},
     "output_type": "execute_result"
    }
   ],
   "source": [
    "dataset.columns"
   ]
  },
  {
   "cell_type": "code",
   "execution_count": 44,
   "id": "8750a270",
   "metadata": {
    "scrolled": true
   },
   "outputs": [
    {
     "data": {
      "text/plain": [
       "array([['Sales and Marketing', 28.0, 3.0],\n",
       "       ['Sales and Marketing', 22.0, 1.0],\n",
       "       ['Customer Relations', 22.0, 1.0],\n",
       "       ['Customer Relations', 22.0, 1.0],\n",
       "       ['Accounting', 27.0, 0.0],\n",
       "       ['Accounting', 26.0, 5.0],\n",
       "       ['Customer Relations', 24.0, 6.0],\n",
       "       ['Customer Relations', 29.0, 2.0],\n",
       "       ['Sales and Marketing', 29.0, 5.0],\n",
       "       ['Customer Relations', 30.0, 6.0],\n",
       "       ['Accounting', 26.0, 5.0],\n",
       "       ['Sales and Marketing', 26.0, 6.0],\n",
       "       ['Accounting', 24.0, 5.0],\n",
       "       ['Accounting', 22.0, 2.0],\n",
       "       ['Sales and Marketing', 25.0, 3.0],\n",
       "       ['Accounting', 25.0, nan],\n",
       "       ['Customer Relations', 22.0, nan],\n",
       "       ['Accounting', 25.0, nan],\n",
       "       ['Accounting', 27.0, nan],\n",
       "       ['Sales and Marketing', 25.0, nan],\n",
       "       ['Sales and Marketing', 22.0, nan],\n",
       "       ['Sales and Marketing', 22.0, nan],\n",
       "       ['Sales and Marketing', 24.0, nan],\n",
       "       ['Sales and Marketing', 27.0, nan],\n",
       "       ['Sales and Marketing', 22.0, nan],\n",
       "       ['Sales and Marketing', 33.0, 13.0],\n",
       "       ['Sales and Marketing', 36.0, 7.0],\n",
       "       ['Sales and Marketing', 35.0, 10.0],\n",
       "       ['Sales and Marketing', 33.0, 12.0],\n",
       "       ['Sales and Marketing', 30.0, 14.0],\n",
       "       ['Sales and Marketing', 40.0, 15.0],\n",
       "       ['Sales and Marketing', 39.0, 12.0],\n",
       "       ['Sales and Marketing', nan, 9.0],\n",
       "       ['Sales and Marketing', nan, 7.0],\n",
       "       ['Sales and Marketing', nan, 15.0],\n",
       "       ['Sales and Marketing', nan, 11.0],\n",
       "       ['Sales and Marketing', nan, 10.0],\n",
       "       ['Sales and Marketing', nan, 7.0],\n",
       "       ['Sales and Marketing', nan, 13.0],\n",
       "       ['Sales and Marketing', nan, 9.0],\n",
       "       ['Customer Relations', nan, 8.0],\n",
       "       ['Accounting', nan, 12.0],\n",
       "       ['Accounting', nan, 9.0],\n",
       "       ['Sales and Marketing', nan, 12.0],\n",
       "       ['Sales and Marketing', nan, 15.0],\n",
       "       ['Customer Relations', nan, 14.0],\n",
       "       ['Sales and Marketing', nan, 10.0],\n",
       "       ['Customer Relations', nan, 8.0],\n",
       "       ['Customer Relations', nan, 12.0],\n",
       "       ['Customer Relations', nan, 15.0],\n",
       "       ['Sales and Marketing', 38.0, 14.0],\n",
       "       ['Accounting', 41.0, 25.0],\n",
       "       ['Customer Relations', 44.0, 17.0],\n",
       "       ['Accounting', 41.0, 17.0],\n",
       "       ['Sales and Marketing', 50.0, 21.0],\n",
       "       ['Sales and Marketing', 47.0, 19.0],\n",
       "       ['Accounting', 43.0, 25.0],\n",
       "       ['Customer Relations', 48.0, 25.0],\n",
       "       ['Accounting', 46.0, 22.0],\n",
       "       ['Customer Relations', 44.0, 16.0],\n",
       "       ['Accounting', 42.0, 21.0],\n",
       "       ['Sales and Marketing', 44.0, 19.0],\n",
       "       ['Customer Relations', 49.0, 16.0],\n",
       "       ['Customer Relations', 44.0, 18.0],\n",
       "       ['Sales and Marketing', 49.0, 22.0],\n",
       "       ['Accounting', 44.0, 17.0],\n",
       "       ['Sales and Marketing', 48.0, 16.0],\n",
       "       ['Customer Relations', 47.0, 23.0],\n",
       "       ['Customer Relations', 50.0, 22.0],\n",
       "       ['Sales and Marketing', 42.0, 19.0],\n",
       "       ['Accounting', 48.0, 19.0],\n",
       "       ['Customer Relations', 46.0, 24.0],\n",
       "       ['Sales and Marketing', 42.0, 23.0],\n",
       "       ['Sales and Marketing', 45.0, 22.0],\n",
       "       ['Customer Relations', 48.0, 17.0],\n",
       "       ['Sales and Marketing', 41.0, 23.0],\n",
       "       ['Sales and Marketing', 49.0, 19.0],\n",
       "       ['Sales and Marketing', 41.0, 22.0],\n",
       "       ['Sales and Marketing', 42.0, 24.0],\n",
       "       ['Accounting', 41.0, 22.0],\n",
       "       ['Accounting', 45.0, 21.0],\n",
       "       ['Customer Relations', 43.0, 16.0],\n",
       "       ['Accounting', 46.0, 18.0],\n",
       "       ['Sales and Marketing', 47.0, 20.0],\n",
       "       ['Accounting', 45.0, 17.0],\n",
       "       ['Sales and Marketing', 42.0, 17.0],\n",
       "       ['Sales and Marketing', 44.0, 21.0],\n",
       "       ['Accounting', 45.0, 19.0],\n",
       "       ['Accounting', 44.0, 21.0],\n",
       "       ['Customer Relations', 47.0, 20.0],\n",
       "       ['Sales and Marketing', 44.0, 19.0],\n",
       "       ['Accounting', 44.0, 18.0],\n",
       "       ['Sales and Marketing', 41.0, 17.0],\n",
       "       ['Accounting', 48.0, 21.0],\n",
       "       ['Accounting', 48.0, 22.0],\n",
       "       ['Sales and Marketing', 47.0, 22.0],\n",
       "       ['Sales and Marketing', 46.0, 20.0],\n",
       "       ['Customer Relations', 44.0, 18.0],\n",
       "       ['Customer Relations', 47.0, 22.0],\n",
       "       ['Accounting', 44.0, 21.0]], dtype=object)"
      ]
     },
     "execution_count": 44,
     "metadata": {},
     "output_type": "execute_result"
    }
   ],
   "source": [
    "x = dataset.iloc[:,3:6].values\n",
    "x"
   ]
  },
  {
   "cell_type": "code",
   "execution_count": 49,
   "id": "1a2bece7",
   "metadata": {
    "scrolled": true
   },
   "outputs": [
    {
     "data": {
      "text/html": [
       "<div>\n",
       "<style scoped>\n",
       "    .dataframe tbody tr th:only-of-type {\n",
       "        vertical-align: middle;\n",
       "    }\n",
       "\n",
       "    .dataframe tbody tr th {\n",
       "        vertical-align: top;\n",
       "    }\n",
       "\n",
       "    .dataframe thead th {\n",
       "        text-align: right;\n",
       "    }\n",
       "</style>\n",
       "<table border=\"1\" class=\"dataframe\">\n",
       "  <thead>\n",
       "    <tr style=\"text-align: right;\">\n",
       "      <th></th>\n",
       "      <th>0</th>\n",
       "      <th>1</th>\n",
       "      <th>2</th>\n",
       "    </tr>\n",
       "  </thead>\n",
       "  <tbody>\n",
       "    <tr>\n",
       "      <th>0</th>\n",
       "      <td>Sales and Marketing</td>\n",
       "      <td>28.0</td>\n",
       "      <td>3.0</td>\n",
       "    </tr>\n",
       "    <tr>\n",
       "      <th>1</th>\n",
       "      <td>Sales and Marketing</td>\n",
       "      <td>22.0</td>\n",
       "      <td>1.0</td>\n",
       "    </tr>\n",
       "    <tr>\n",
       "      <th>2</th>\n",
       "      <td>Customer Relations</td>\n",
       "      <td>22.0</td>\n",
       "      <td>1.0</td>\n",
       "    </tr>\n",
       "    <tr>\n",
       "      <th>3</th>\n",
       "      <td>Customer Relations</td>\n",
       "      <td>22.0</td>\n",
       "      <td>1.0</td>\n",
       "    </tr>\n",
       "    <tr>\n",
       "      <th>4</th>\n",
       "      <td>Accounting</td>\n",
       "      <td>27.0</td>\n",
       "      <td>0.0</td>\n",
       "    </tr>\n",
       "  </tbody>\n",
       "</table>\n",
       "</div>"
      ],
      "text/plain": [
       "                     0     1    2\n",
       "0  Sales and Marketing  28.0  3.0\n",
       "1  Sales and Marketing  22.0  1.0\n",
       "2   Customer Relations  22.0  1.0\n",
       "3   Customer Relations  22.0  1.0\n",
       "4           Accounting  27.0  0.0"
      ]
     },
     "execution_count": 49,
     "metadata": {},
     "output_type": "execute_result"
    }
   ],
   "source": [
    "df  = pd.DataFrame(x)\n",
    "df.head()"
   ]
  },
  {
   "cell_type": "code",
   "execution_count": 11,
   "id": "12230e6f",
   "metadata": {
    "scrolled": true
   },
   "outputs": [
    {
     "data": {
      "text/plain": [
       "Employee Id    0.00\n",
       "First Name     0.00\n",
       "Last Name      0.00\n",
       "Department     0.19\n",
       "Age            0.18\n",
       "Experience     0.10\n",
       "Salary         0.00\n",
       "dtype: float64"
      ]
     },
     "execution_count": 11,
     "metadata": {},
     "output_type": "execute_result"
    }
   ],
   "source": [
    "dataset.isnull().sum()/len(dataset)"
   ]
  },
  {
   "cell_type": "code",
   "execution_count": 12,
   "id": "a6f84611",
   "metadata": {
    "scrolled": false
   },
   "outputs": [
    {
     "data": {
      "text/plain": [
       "Sales and Marketing    30\n",
       "Accounting             27\n",
       "Customer Relations     24\n",
       "Name: Department, dtype: int64"
      ]
     },
     "execution_count": 12,
     "metadata": {},
     "output_type": "execute_result"
    }
   ],
   "source": [
    "dataset['Department'].value_counts()"
   ]
  },
  {
   "cell_type": "code",
   "execution_count": 13,
   "id": "0027045c",
   "metadata": {},
   "outputs": [],
   "source": [
    "dataset['Department'] = dataset['Department'].fillna('Sales and Marketing')"
   ]
  },
  {
   "cell_type": "code",
   "execution_count": 14,
   "id": "d3b722ab",
   "metadata": {
    "scrolled": true
   },
   "outputs": [
    {
     "data": {
      "text/plain": [
       "Employee Id    0.00\n",
       "First Name     0.00\n",
       "Last Name      0.00\n",
       "Department     0.00\n",
       "Age            0.18\n",
       "Experience     0.10\n",
       "Salary         0.00\n",
       "dtype: float64"
      ]
     },
     "execution_count": 14,
     "metadata": {},
     "output_type": "execute_result"
    }
   ],
   "source": [
    "dataset.isnull().sum()/len(dataset)"
   ]
  },
  {
   "cell_type": "code",
   "execution_count": 43,
   "id": "15d9627b",
   "metadata": {
    "scrolled": true
   },
   "outputs": [
    {
     "data": {
      "text/html": [
       "<div>\n",
       "<style scoped>\n",
       "    .dataframe tbody tr th:only-of-type {\n",
       "        vertical-align: middle;\n",
       "    }\n",
       "\n",
       "    .dataframe tbody tr th {\n",
       "        vertical-align: top;\n",
       "    }\n",
       "\n",
       "    .dataframe thead th {\n",
       "        text-align: right;\n",
       "    }\n",
       "</style>\n",
       "<table border=\"1\" class=\"dataframe\">\n",
       "  <thead>\n",
       "    <tr style=\"text-align: right;\">\n",
       "      <th></th>\n",
       "      <th>Department</th>\n",
       "      <th>Age</th>\n",
       "      <th>Experience</th>\n",
       "    </tr>\n",
       "  </thead>\n",
       "  <tbody>\n",
       "  </tbody>\n",
       "</table>\n",
       "</div>"
      ],
      "text/plain": [
       "Empty DataFrame\n",
       "Columns: [Department, Age, Experience]\n",
       "Index: []"
      ]
     },
     "execution_count": 43,
     "metadata": {},
     "output_type": "execute_result"
    }
   ],
   "source": []
  },
  {
   "cell_type": "code",
   "execution_count": 45,
   "id": "6dfa0afd",
   "metadata": {
    "scrolled": true
   },
   "outputs": [],
   "source": [
    "#Automatic Approach\n",
    "\n",
    "from sklearn.impute import SimpleImputer\n",
    "impute = SimpleImputer(strategy =\"most_frequent\")\n",
    "x[:,0:1] = impute.fit_transform(x[:,0:1])"
   ]
  },
  {
   "cell_type": "code",
   "execution_count": null,
   "id": "b3193f00",
   "metadata": {},
   "outputs": [],
   "source": []
  },
  {
   "cell_type": "code",
   "execution_count": null,
   "id": "25ab652b",
   "metadata": {},
   "outputs": [],
   "source": []
  }
 ],
 "metadata": {
  "kernelspec": {
   "display_name": "Python 3 (ipykernel)",
   "language": "python",
   "name": "python3"
  },
  "language_info": {
   "codemirror_mode": {
    "name": "ipython",
    "version": 3
   },
   "file_extension": ".py",
   "mimetype": "text/x-python",
   "name": "python",
   "nbconvert_exporter": "python",
   "pygments_lexer": "ipython3",
   "version": "3.11.5"
  }
 },
 "nbformat": 4,
 "nbformat_minor": 5
}
